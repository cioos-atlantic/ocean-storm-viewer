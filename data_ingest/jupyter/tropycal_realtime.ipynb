{
 "cells": [
  {
   "cell_type": "code",
   "execution_count": null,
   "metadata": {},
   "outputs": [],
   "source": [
    "from tropycal import realtime\n",
    "realtime_obj = realtime.Realtime(jtwc=True, jtwc_source = 'ucar')\n",
    "realtime_obj\n",
    "realtime_obj.list_active_storms(basin='all')\n",
    "realtime_obj.plot_summary(domain={'w':-100,'e':-10,'s':4,'n':60})"
   ]
  },
  {
   "cell_type": "code",
   "execution_count": null,
   "metadata": {},
   "outputs": [],
   "source": [
    "realtime_obj.plot_summary()"
   ]
  },
  {
   "cell_type": "code",
   "execution_count": null,
   "metadata": {},
   "outputs": [],
   "source": [
    "realtime_obj"
   ]
  }
 ],
 "metadata": {
  "kernelspec": {
   "display_name": "hurricane-dash",
   "language": "python",
   "name": "python3"
  },
  "language_info": {
   "codemirror_mode": {
    "name": "ipython",
    "version": 3
   },
   "file_extension": ".py",
   "mimetype": "text/x-python",
   "name": "python",
   "nbconvert_exporter": "python",
   "pygments_lexer": "ipython3",
   "version": "3.11.0"
  },
  "orig_nbformat": 4
 },
 "nbformat": 4,
 "nbformat_minor": 2
}
