{
 "cells": [
  {
   "cell_type": "code",
   "execution_count": 1,
   "metadata": {},
   "outputs": [
    {
     "data": {
      "text/plain": [
       "'https://cioosatlantic.ca/erddap/search/advanced.html?page=1&itemsPerPage=1000&protocol=(ANY)&cdm_data_type=(ANY)&institution=(ANY)&ioos_category=(ANY)&keywords=(ANY)&long_name=(ANY)&standard_name=(ANY)&variableName=(ANY)&minLon=(ANY)&maxLon=(ANY)&minLat=(ANY)&maxLat=(ANY)&minTime=&maxTime=&searchFor=all'"
      ]
     },
     "execution_count": 1,
     "metadata": {},
     "output_type": "execute_result"
    }
   ],
   "source": [
    "from erddapy import ERDDAP\n",
    "e = ERDDAP(server=\"https://cioosatlantic.ca/erddap\")\n",
    "url = e.get_search_url(search_for=\"all\", response=\"html\")\n",
    "url"
   ]
  },
  {
   "cell_type": "code",
   "execution_count": 2,
   "metadata": {},
   "outputs": [],
   "source": [
    "import pandas as pd\n",
    "\n",
    "from erddapy.doc_helpers import show_iframe\n",
    "\n",
    "\n",
    "kw = {\n",
    "    \"standard_name\": \"wind_speed\",\n",
    "    \"min_time\": \"2022-09-20\",\n",
    "    \"max_time\": \"2022-09-30\",\n",
    "}\n",
    "search_url = e.get_search_url(response=\"csv\", **kw)\n",
    "search = pd.read_csv(search_url)\n",
    "fiona_datasets = search[\"Dataset ID\"].values"
   ]
  },
  {
   "cell_type": "code",
   "execution_count": 3,
   "metadata": {},
   "outputs": [
    {
     "data": {
      "text/plain": [
       "array(['SMA_port_aux_basques', 'SMA_port_aux_basqes_wharf',\n",
       "       'SMA_saint_john_cruise_terminal', 'force_meteorological_tower',\n",
       "       'SMA_Fortune_Bay_Buoy', 'SMA_halifax', 'SMA_halifax_fairview',\n",
       "       'SMA_halifax_anemometer1', 'SMA_halifax_pier9c',\n",
       "       'SMA_Holyrood_Buoy2', 'SMA_holyrood_wharf',\n",
       "       'sma_negl_black_tickle_nlqu0003',\n",
       "       'sma_negl_cartwright_junction_nlqu0004',\n",
       "       'sma_negl_north_west_river_nlqu0007',\n",
       "       'sma_negl_postville_nlqu0001', 'sma_negl_red_bay_nlqu0005',\n",
       "       'sma_negl_rigolet_nlqu0002', 'SMA_red_island_shoal',\n",
       "       'DFO_Sutron_KLUMI', 'SMA_saint_john', 'SMA_st_johns',\n",
       "       'SPOT-1431_202204', 'SPOT-1461_202204'], dtype=object)"
      ]
     },
     "execution_count": 3,
     "metadata": {},
     "output_type": "execute_result"
    }
   ],
   "source": [
    "fiona_datasets"
   ]
  },
  {
   "cell_type": "code",
   "execution_count": 4,
   "metadata": {},
   "outputs": [
    {
     "name": "stdout",
     "output_type": "stream",
     "text": [
      "SMA_port_aux_basques\n",
      "SMA_port_aux_basqes_wharf\n",
      "SMA_saint_john_cruise_terminal\n",
      "force_meteorological_tower\n",
      "SMA_Fortune_Bay_Buoy\n",
      "SMA_halifax\n",
      "SMA_halifax_fairview\n",
      "SMA_halifax_anemometer1\n",
      "SMA_halifax_pier9c\n",
      "SMA_Holyrood_Buoy2\n",
      "SMA_holyrood_wharf\n",
      "sma_negl_black_tickle_nlqu0003\n",
      "sma_negl_cartwright_junction_nlqu0004\n",
      "sma_negl_north_west_river_nlqu0007\n",
      "sma_negl_postville_nlqu0001\n",
      "sma_negl_red_bay_nlqu0005\n",
      "sma_negl_rigolet_nlqu0002\n",
      "SMA_red_island_shoal\n",
      "DFO_Sutron_KLUMI\n",
      "SMA_saint_john\n",
      "SMA_st_johns\n",
      "SPOT-1431_202204\n",
      "SPOT-1461_202204\n"
     ]
    }
   ],
   "source": [
    "for data_id in fiona_datasets:\n",
    "    print(data_id)"
   ]
  }
 ],
 "metadata": {
  "kernelspec": {
   "display_name": "hurricane-dash",
   "language": "python",
   "name": "python3"
  },
  "language_info": {
   "codemirror_mode": {
    "name": "ipython",
    "version": 3
   },
   "file_extension": ".py",
   "mimetype": "text/x-python",
   "name": "python",
   "nbconvert_exporter": "python",
   "pygments_lexer": "ipython3",
   "version": "3.10.9"
  },
  "orig_nbformat": 4
 },
 "nbformat": 4,
 "nbformat_minor": 2
}
