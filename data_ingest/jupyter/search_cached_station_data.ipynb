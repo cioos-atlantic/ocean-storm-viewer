{
 "cells": [
  {
   "cell_type": "code",
   "execution_count": null,
   "metadata": {},
   "outputs": [],
   "source": [
    "import os\n",
    "\n",
    "station_data_path = \"../station-data/\"\n",
    "storm_id = \"2022_fiona\"\n",
    "\n",
    "if os.path.exists(station_data_path + storm_id):\n",
    "    print(\"path exists\")\n",
    "else:\n",
    "    print(\"Path does not exist\")"
   ]
  },
  {
   "cell_type": "code",
   "execution_count": null,
   "metadata": {},
   "outputs": [],
   "source": [
    "import pandas as pd\n",
    "import os\n",
    "\n",
    "# Search for a specific variable,\n",
    "#   ideally pass in from a standard list to avoid vocab issues\n",
    "# If left blank, will just grab the whole dataset\n",
    "variable = 'wind_speed'\n",
    "\n",
    "# Variable options:\n",
    "#  \"wind_speed\"\n",
    "#  \"wind_speed_of_gust\"\n",
    "#  \"wind_from_direction\"\n",
    "#  \"air_temperature\"\n",
    "#  \"air_pressure\"\n",
    "#  \"relative_humidity\"\n",
    "#  \"sea_surface_temperature\"\n",
    "#  \"sea_surface_wave_significant_height\"\n",
    "#  \"sea_surface_wave_maximum_height\"\n",
    "#  \"sea_surface_wave_maximum_period\"\n",
    "#  \"sea_surface_wave_from_direction\"\n",
    "#  \"sea_surface_wave_mean_period\"\n",
    "#  \"sea_surface_wave_zero_upcrossing_period\"\n",
    "\n",
    "# This section will likely change depending on how the data will be stored\n",
    "# Current format is from writing the datasets from 'search_by_standard_name' notebook to csv\n",
    "#   in the station-data folder\n",
    "storm_station_folder = station_data_path + storm_id\n",
    "for station in os.listdir(storm_station_folder):\n",
    "    station_file = os.path.join(storm_station_folder, station)\n",
    "    if os.path.isfile(station_file):\n",
    "        print(station_file)\n",
    "        df = pd.read_csv(station_file, sep='\\t')\n",
    "\n",
    "        # This section can be reused with minor adjustments\n",
    "        if(variable==''):\n",
    "            print(df.head(3))\n",
    "        else:\n",
    "            # Get a list of 'essential' variables (lat, lon, time) [may only need time]\n",
    "            base_cols = '\\(time\\||\\(latitude\\||\\(longitude\\|'\n",
    "            # Starting the field with '(' and ending with '|' ensures we are matching the exact standard name\n",
    "            df2 = df.filter(regex=base_cols + '|\\(' + variable + '\\|')\n",
    "            if(df2.columns.size > 3):\n",
    "                print(df2.head(3))\n",
    "            else:\n",
    "                print('Variable does not exist for station')\n"
   ]
  }
 ],
 "metadata": {
  "kernelspec": {
   "display_name": "hurricane",
   "language": "python",
   "name": "python3"
  },
  "language_info": {
   "codemirror_mode": {
    "name": "ipython",
    "version": 3
   },
   "file_extension": ".py",
   "mimetype": "text/x-python",
   "name": "python",
   "nbconvert_exporter": "python",
   "pygments_lexer": "ipython3",
   "version": "3.9.16"
  },
  "orig_nbformat": 4
 },
 "nbformat": 4,
 "nbformat_minor": 2
}
